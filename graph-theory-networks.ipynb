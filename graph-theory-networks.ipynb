{
 "cells": [
  {
   "cell_type": "markdown",
   "metadata": {
    "slideshow": {
     "slide_type": "slide"
    }
   },
   "source": [
    "## Why Networks?\n",
    "\n",
    "* Great at modeling relationships\n",
    "* Social Networks\n",
    "* Transportation Networks\n",
    "\n",
    "<img src = \"https://cdn.thewirecutter.com/wp-content/uploads/2019/05/car-gps-2019-2x1-lowres5593.jpg\">\n",
    "\n",
    "\n",
    "[Other applications!](https://www.onlinejournal.in/IJIRV3I3/148.pdf)"
   ]
  },
  {
   "cell_type": "markdown",
   "metadata": {},
   "source": [
    "<img src = \"./resources/graph.png\" style=\"width: 300px;\">"
   ]
  },
  {
   "cell_type": "markdown",
   "metadata": {
    "slideshow": {
     "slide_type": "slide"
    }
   },
   "source": [
    "## Components of Graphs\n",
    "\n",
    "* Nodes\n",
    "* Edges (weighted/unweighted and directed/undirected)\n",
    "* Degree\n",
    "\n",
    "#### Types of Graphs\n",
    "\n",
    "* Non-Directed Graph\n",
    "\n",
    "<img src = \"https://mathinsight.org/media/image/image/small_undirected_network_labeled.png\">\n",
    "\n",
    "* Directed Graph\n",
    "\n",
    "<img src = \"https://mathinsight.org/media/image/image/small_directed_network_labeled.png\">\n",
    "\n",
    "* Unipartite Graph\n",
    "\n",
    "\n",
    "* Bipartite Graph\n",
    "\n",
    "<img src =\"./resources/bipartite.png\">"
   ]
  },
  {
   "cell_type": "markdown",
   "metadata": {},
   "source": [
    "### Moving through graphs\n",
    "\n",
    "* path : the route from one node to another\n",
    "* shortest path: the shortest possible route from one to another\n"
   ]
  },
  {
   "cell_type": "markdown",
   "metadata": {},
   "source": [
    "## Node Centrality\n",
    "\n",
    "* **Degree Centrality**: How many connections does a node have?\n",
    "\n",
    "\n",
    "## $\\frac{\\#\\ of\\ neighbors\\ a\\ node\\ has}{\\#\\ of\\ neighbors\\ it\\ could\\ possibly\\ have}$\n",
    "\n",
    "Normalized ^^\n",
    "\n",
    "---\n",
    " * **Betweenness Centrality**: How important is an individual node to a network? Captures bottlenecks\n",
    " \n",
    " \n",
    "<img  src =\"./resources/betweenness_formula.svg\">\n",
    " \n",
    "    \n",
    "where $\\sigma_{st}$ is the total number of shortest paths from node *s* to node *t* and $\\sigma_{st}(v)$ is the number of paths that pass through v\n",
    "\n",
    "\n",
    "\n",
    "## $\\frac{\\#\\ of\\ shortest\\ paths\\ moving\\ from\\ one\\ node\\ to\\ another\\ including \\ node\\ of\\ interest}{\\#\\ all\\ possible\\ shortest\\ paths\\ from\\ one\\ node\\ to\\ another}$\n",
    "\n",
    "---\n",
    "\n",
    "* **Closeness Centrality**:  Calculated as the reciprocal of the sum of the length of the shortest paths between the node and all other nodes in the graph. Thus, the more central a node is, the closer it is to all other nodes.\n",
    "\n",
    "<img src =\"./resources/closeness.svg\">  \n",
    "where $\\displaystyle d(y,x)$ $\\displaystyle d(y,x)$ is the distance between vertices $\\displaystyle x$ and $\\displaystyle y$ \n",
    "\n",
    "https://journals.plos.org/plosone/article?id=10.1371/journal.pone.0165781"
   ]
  },
  {
   "cell_type": "markdown",
   "metadata": {},
   "source": [
    "### Applying this to code!\n",
    "\n",
    "The following code is somewhat based on this [article](https://www.maa.org/sites/default/files/pdf/Mathhorizons/NetworkofThrones%20%281%29.pdf) where the authors used graph theory to simplify the relationships in the books between characters.\n",
    "\n",
    "Another [blog post](https://nikoleta-v3.github.io/blog/2017/10/19/python-graphs-got.html) uses the same article as inspiration to asked the question: \"Who is the central character of A Song of Ice and Fire?\"\n",
    "\n",
    "Let's dive in and take a look at how to apply graph theory with Python!\n",
    "\n"
   ]
  },
  {
   "cell_type": "code",
   "execution_count": null,
   "metadata": {},
   "outputs": [],
   "source": [
    "### Let's try all this in code\n",
    "import pandas as pd\n",
    "import networkx as nx\n",
    "import matplotlib.pyplot as plt\n",
    "book1_df = pd.read_csv('./resources/asiof/asoiaf-book1-edges.csv')\n",
    "\n",
    "book1_df.head()\n",
    "\n",
    "G1 = nx.Graph()\n",
    "for row in book1_df.iterrows():\n",
    "    print(row)\n",
    "    G1.add_edge(row[1]['Source'], row[1]['Target'], weight=row[1]['weight'], book=row[1]['book'])\n"
   ]
  },
  {
   "cell_type": "code",
   "execution_count": null,
   "metadata": {},
   "outputs": [],
   "source": [
    "# see all of the nodes\n",
    "\n",
    "G1.nodes"
   ]
  },
  {
   "cell_type": "code",
   "execution_count": null,
   "metadata": {},
   "outputs": [],
   "source": [
    "# see all of the nodes with data\n",
    "\n",
    "G1.nodes.data('book')"
   ]
  },
  {
   "cell_type": "code",
   "execution_count": null,
   "metadata": {},
   "outputs": [],
   "source": [
    "# see all of the edges with data\n",
    "\n",
    "G1.edges.data('book')"
   ]
  },
  {
   "cell_type": "code",
   "execution_count": null,
   "metadata": {},
   "outputs": [],
   "source": [
    "# find neighbors of Tyrion Lannister\n",
    "\n",
    "G1.neighbors('Tyrion-Lannister')"
   ]
  },
  {
   "cell_type": "code",
   "execution_count": null,
   "metadata": {},
   "outputs": [],
   "source": [
    "neighbors = [n for n in G1.neighbors('Tyrion-Lannister')]\n",
    "neighbors"
   ]
  },
  {
   "cell_type": "code",
   "execution_count": null,
   "metadata": {},
   "outputs": [],
   "source": [
    "# degree centrality\n",
    "nx.degree_centrality(G1)\n",
    "\n",
    "\n",
    "#Note: This result is normalized by dividing by the maximum possible degree in a \n",
    "#simple graph n-1 where n is the number of nodes\n"
   ]
  },
  {
   "cell_type": "code",
   "execution_count": null,
   "metadata": {},
   "outputs": [],
   "source": [
    "# betweenness centrality (weighted and unweighted)\n",
    "sorted(nx.betweenness_centrality(G1,weight=None).items())"
   ]
  },
  {
   "cell_type": "code",
   "execution_count": null,
   "metadata": {},
   "outputs": [],
   "source": [
    "sorted(nx.betweenness_centrality(G1,weight='weight').items())"
   ]
  },
  {
   "cell_type": "markdown",
   "metadata": {},
   "source": [
    "# Common Applications of Networks\n",
    "\n",
    "1. Community Detection (Clustering)\n",
    "2. Recommendation Engines"
   ]
  },
  {
   "cell_type": "markdown",
   "metadata": {},
   "source": [
    "## Community Detection\n",
    "### Cliques\n",
    "<img src =\"./resources/clique_mean_girls.jpg\">\n",
    "\n",
    "\n",
    "## Not this ^^^\n",
    "\n",
    "---\n",
    "\n",
    "#### Clique: a subset of vertices in an undirected graph, such that every pair of vertices are adjacent to one another\n",
    "* Maximum Clique: the largest clique\n",
    "* Maximal Clique: a clique that, if an additional vertex was added, would no longer be a clique"
   ]
  },
  {
   "cell_type": "markdown",
   "metadata": {},
   "source": [
    "How many maximal cliques are there in the diagram below? What is the maximum clique?"
   ]
  },
  {
   "cell_type": "markdown",
   "metadata": {},
   "source": [
    "<img src = \"./resources/too_many_cliques.png\">\n",
    "\n",
    "How could we create a simple recommendation system from a clique?"
   ]
  },
  {
   "cell_type": "markdown",
   "metadata": {},
   "source": [
    "\n",
    "### Clustering Techniques\n",
    "\n",
    "If we want to find nodes that are clustered together, take a look at common techniques \n",
    "\n",
    "#### k-clique community clustering algorithm\n",
    "\n"
   ]
  },
  {
   "cell_type": "markdown",
   "metadata": {},
   "source": [
    "<img src = \"./resources/k_clique_clustering.png\">"
   ]
  },
  {
   "cell_type": "markdown",
   "metadata": {},
   "source": [
    "How many clusters are in this picture here?"
   ]
  },
  {
   "cell_type": "markdown",
   "metadata": {},
   "source": [
    "###  Girvan-Newman clustering algorithm\n",
    "   1. The betweenness of all existing edges in the network is calculated first.\n",
    "   2. The edge with the highest betweenness is removed.\n",
    "   3. The betweenness of all edges affected by the removal is recalculated.\n",
    "   4. Steps 2 and 3 are repeated until no edges remain.\n",
    "    \n",
    "    \n",
    "#### What does this remind you of?\n"
   ]
  },
  {
   "cell_type": "markdown",
   "metadata": {},
   "source": [
    "<img src =\"./resources/gn.jpg\">\n",
    "\n",
    "#### Let's see which works better with the GOT network:"
   ]
  },
  {
   "cell_type": "code",
   "execution_count": null,
   "metadata": {},
   "outputs": [],
   "source": [
    "### Code Examples from GOT\n",
    "from networkx.algorithms.community import k_clique_communities\n",
    "k_clique = k_clique_communities(G1,3)\n",
    "dict(enumerate(k_clique))\n",
    "\n",
    "\n",
    "\n"
   ]
  },
  {
   "cell_type": "code",
   "execution_count": null,
   "metadata": {},
   "outputs": [],
   "source": [
    "from networkx.algorithms.community import girvan_newman\n",
    "community = girvan_newman(G1)\n",
    "comm_iter1 = tuple(sorted(c) for c in next(community))\n",
    "dict(enumerate(comm_iter1))\n"
   ]
  },
  {
   "cell_type": "markdown",
   "metadata": {},
   "source": [
    "Evaluating network clustering algorithms (https://journals.plos.org/plosone/article/file?id=10.1371/journal.pone.0159161&type=printable)"
   ]
  },
  {
   "cell_type": "markdown",
   "metadata": {},
   "source": [
    "## Recommendations\n",
    "\n",
    "####  Ego Network: A subset of a graph composed of a central node (ego) and all of the nodes the ego is connected to (alters)  \n",
    "\n",
    "A simple recommendation system is: given an ego node, recommend items that are contained with it's ego network\n",
    "\n",
    "<img src = \"./resources/egonet3.jpg\">\n",
    "This could yield a lot of results! How might we create more precise recommendations?\n",
    "\n",
    "http://www.steveborgatti.com/papers/egobet.pdf"
   ]
  },
  {
   "cell_type": "code",
   "execution_count": null,
   "metadata": {},
   "outputs": [],
   "source": [
    "fhr = open('./resources/books_meta.txt', 'r', encoding='utf-8', errors='ignore')\n",
    "books_meta_dict = {}\n",
    "fhr.readline()\n",
    "\n",
    "# Parse data from each ASIN entry\n",
    "for record in fhr:\n",
    "    \n",
    "    # Split the record attributes on TAB \n",
    "    attr = record.split('\\t')\n",
    "    \n",
    "    # Create a meta dictionary \n",
    "    meta = {}\n",
    "    \n",
    "    # Read the attributes into key = ASIN , value= meta - where meta is a dictionary of attributes (except ASIN)\n",
    "    meta['Id'] = attr[0].strip() \n",
    "    ASIN = attr[1].strip()\n",
    "    meta['Title'] = attr[2].strip()\n",
    "    meta['Categories'] = attr[3].strip()\n",
    "    meta['Group'] = attr[4].strip()\n",
    "    \n",
    "    # Convert numeric data to integers and floats accordingly\n",
    "    meta['SalesRank'] = int(attr[5].strip())\n",
    "    meta['TotalReviews'] = int(attr[6].strip()) \n",
    "    meta['AvgRating'] = float(attr[7].strip())\n",
    "    meta['DegreeCentrality'] = int(attr[8].strip()) \n",
    "    meta['ClusteringCoeff'] = float(attr[9].strip())\n",
    "    \n",
    "    # Write metadata as value with key ASIN\n",
    "    books_meta_dict[ASIN] = meta\n",
    "\n",
    "# Close the file reader\n",
    "fhr.close()\n",
    "len(books_meta_dict)"
   ]
  },
  {
   "cell_type": "code",
   "execution_count": null,
   "metadata": {},
   "outputs": [],
   "source": [
    "import networkx as nx\n",
    "\n",
    "file = open(\"./resources/books_data.edgelist\", 'rb')\n",
    "books_copurchase = nx.read_weighted_edgelist(file)\n",
    "file.close()\n",
    "print(nx.info(books_copurchase))\n",
    "\n",
    "\n"
   ]
  },
  {
   "cell_type": "code",
   "execution_count": null,
   "metadata": {},
   "outputs": [],
   "source": [
    "print (\"Your Purchased Book\")\n",
    "print (\"-----------------\")\n",
    "asin = '0873376129'\n",
    "\n",
    "# Print out the features associates with the book\n",
    "\n",
    "print (\"\\nTitle = \", books_meta_dict[asin]['Title'])\n",
    "print (\"ASIN = \", asin)\n",
    "print (\"SalesRank = \", books_meta_dict[asin]['SalesRank'])\n",
    "print (\"TotalReviews = \",books_meta_dict[asin]['TotalReviews'])\n",
    "print (\"AvgRating = \", books_meta_dict[asin]['AvgRating'])\n",
    "print (\"DegreeCentrality = \", books_meta_dict[asin]['DegreeCentrality'])\n",
    "print (\"ClusteringCoeff = \",books_meta_dict[asin]['ClusteringCoeff'])"
   ]
  },
  {
   "cell_type": "code",
   "execution_count": null,
   "metadata": {},
   "outputs": [],
   "source": [
    "ego = nx.ego_graph(books_copurchase, asin, radius=1)\n",
    "print (\"Ego Network for\", books_meta_dict[asin]['Title'], \n",
    "       \"\\nNodes =\", ego.number_of_nodes(), \n",
    "       \"\\nEdges =\", ego.number_of_edges())\n"
   ]
  },
  {
   "cell_type": "code",
   "execution_count": null,
   "metadata": {},
   "outputs": [],
   "source": [
    "# Draw the ego network\n",
    "nx.draw(ego, with_labels=True)"
   ]
  },
  {
   "cell_type": "code",
   "execution_count": null,
   "metadata": {},
   "outputs": [],
   "source": [
    "# Create empty graph instance `trimmed_ego_net` using the `nx.Graph()`to represent the trimmed network\n",
    "threshold = 0.5\n",
    "trimmed_ego = nx.Graph()\n",
    "\n",
    "# Iterate through the network, comparing each weight with threshold\n",
    "for node1, node2, edge in ego.edges(data=True):\n",
    "    if edge['weight'] >= threshold:\n",
    "        trimmed_ego.add_edge(node1, node2,\n",
    "                                 weight = edge.values())\n",
    "        \n",
    "# Print the trimmed statistics        \n",
    "print ('Trimmed Ego Network for:', books_meta_dict[asin]['Title'] , \n",
    "       \"\\n____________________\\n\",\n",
    "       \"\\nThreshold=\", threshold,\n",
    "       \"\\nNodes =\", trimmed_ego.number_of_nodes(), \n",
    "        \"\\nEdges =\", trimmed_ego.number_of_edges())\n",
    "\n",
    "# Show the Altars available in the trimmed network\n",
    "print(\"\\nASINs in the trimmed network: \\n\", list(trimmed_ego))"
   ]
  },
  {
   "cell_type": "code",
   "execution_count": null,
   "metadata": {},
   "outputs": [],
   "source": [
    "lst_neighbors= list(trimmed_ego)\n",
    "print (\"Purchased Book\")\n",
    "print (\"--------------\\n\")\n",
    "print(\"Title: \",books_meta_dict[asin]['Title'])\n",
    "\n",
    "\n",
    "print (\"\\nCustomers who bought this book, also bought:\")\n",
    "print (\"-------------------------------------------\")\n",
    "for nb_asin in lst_neighbors[1:]:\n",
    "    print(\"\\nAsin: \", nb_asin)\n",
    "    print(\"Book Title: \", books_meta_dict[nb_asin][\"Title\"])\n",
    "    print(\"Average Rating:\", books_meta_dict[nb_asin][\"AvgRating\"])\n",
    "    print(\"Number of Reviews: \", books_meta_dict[nb_asin][\"TotalReviews\"])"
   ]
  },
  {
   "cell_type": "markdown",
   "metadata": {},
   "source": [
    "\n",
    "<img src =\"./resources/social_network.jpg\">"
   ]
  },
  {
   "cell_type": "markdown",
   "metadata": {},
   "source": [
    "## Additional Resources\n",
    "\n",
    "Awesome projects related to graph theory/networks (http://snap.stanford.edu/class/cs224w-2017/projects.html)  \n",
    "Paper on recommender systems (http://citeseerx.ist.psu.edu/viewdoc/download?doi=10.1.1.480.5927&rep=rep1&type=pdf)   \n",
    "Another paper on recommender system (http://www.cs.cmu.edu/~jure/pubs/viral-tweb.pdf)  \n",
    "More on clustering networks (http://pages.di.unipi.it/marino/cluster18.pdf)"
   ]
  }
 ],
 "metadata": {
  "kernelspec": {
   "display_name": "Python 3",
   "language": "python",
   "name": "python3"
  },
  "language_info": {
   "codemirror_mode": {
    "name": "ipython",
    "version": 3
   },
   "file_extension": ".py",
   "mimetype": "text/x-python",
   "name": "python",
   "nbconvert_exporter": "python",
   "pygments_lexer": "ipython3",
   "version": "3.7.1"
  }
 },
 "nbformat": 4,
 "nbformat_minor": 2
}
